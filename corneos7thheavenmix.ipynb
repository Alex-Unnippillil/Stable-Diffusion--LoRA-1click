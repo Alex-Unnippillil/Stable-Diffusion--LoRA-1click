{
  "cells": [
    {
      "cell_type": "code",
      "execution_count": null,
      "metadata": {
        "id": "sBbcB4vwj_jm"
      },
      "outputs": [],
      "source": [
        "!pip install --upgrade fastapi==0.90.0\n",
        "!git clone https://github.com/AUTOMATIC1111/stable-diffusion-webui\n",
        "!git clone https://github.com/yfszzx/stable-diffusion-webui-images-browser /content/stable-diffusion-webui/extensions/stable-diffusion-webui-images-browser\n",
        "!curl -Lo corneos7thheavenmix.safetensors https://huggingface.co/nolanaatama/crns7thhvnmx/resolve/main/crns7thhvnmx.safetensors\n",
        "!curl -Lo corneos7thheavenmix.vae.pt https://huggingface.co/nolanaatama/crns7thhvnmx/resolve/main/crns7thhvnmx.vae.pt\n",
        "!curl -Lo bad-hands-5.pt https://huggingface.co/nolanaatama/etic/resolve/main/bad-hands-5.pt\n",
        "!curl -Lo bad_prompt_version2.pt https://huggingface.co/datasets/Nerfgun3/bad_prompt/resolve/main/bad_prompt_version2.pt\n",
        "!mv \"/content/corneos7thheavenmix.safetensors\" \"/content/stable-diffusion-webui/models/Stable-diffusion\"\n",
        "!mv \"/content/corneos7thheavenmix.vae.pt\" \"/content/stable-diffusion-webui/models/Stable-diffusion\"\n",
        "!mv \"/content/bad-hands-5.pt\" \"/content/stable-diffusion-webui/embeddings\"\n",
        "!mv \"/content/bad_prompt_version2.pt\" \"/content/stable-diffusion-webui/embeddings\"\n",
        "%cd /content/stable-diffusion-webui\n",
        "!git checkout 91c8d0d\n",
        "!COMMANDLINE_ARGS=\"--share --disable-safe-unpickle --no-half-vae --xformers --reinstall-xformers --enable-insecure-extension-access\" REQS_FILE=\"requirements.txt\" python launch.py"
      ]
    },
    {
      "cell_type": "markdown",
      "metadata": {
        "id": "fhwIXzcgfkoR"
      },
      "source": [
        "# 📚 GitHub for more: [_@nolanaatama_](https://github.com/nolanaatama)\n",
        "# 📦 Repo: [Github](https://github.com/nolanaatama/sd-analog-colab)"
      ]
    }
  ],
  "metadata": {
    "accelerator": "GPU",
    "colab": {
      "provenance": []
    },
    "gpuClass": "standard",
    "kernelspec": {
      "display_name": "Python 3",
      "name": "python3"
    },
    "language_info": {
      "name": "python"
    }
  },
  "nbformat": 4,
  "nbformat_minor": 0
}